{
 "cells": [
  {
   "cell_type": "code",
   "execution_count": null,
   "metadata": {},
   "outputs": [],
   "source": [
    "jieba.set_dictionary('../jieba_data/dict.txt.big') #下載繁體辭典\n",
    "jieba.load_userdict('../jieba_data/userdict.txt')\n",
    "stopwords = [] #建立一個空的list叫stopwords\n",
    "with open('../jieba_data/stopwords.txt', 'r', encoding='UTF-8') as file: \n",
    "    for each in file.readlines(): #一行行讀取file\n",
    "        stopwords.append(each.strip()) #將一行行讀取的file去掉頭尾空格後加到stopwords裡面\n",
    "    stopwords.append(' ')"
   ]
  },
  {
   "cell_type": "code",
   "execution_count": null,
   "metadata": {},
   "outputs": [],
   "source": [
    "# 載入斷詞字典\n",
    "for i in range(len(data)):\n",
    "    current_content = data[i]['content']\n",
    "    current_cutted = jieba.lcut(remove_punctuation(current_content)) #將current content中的標點符號去除並分詞\n",
    "    data[i]['cutted_dict'] = lcut_to_dict(current_cutted) #將分完詞得結果放回data中新的名為cutted_dict的項目"
   ]
  },
  {
   "cell_type": "code",
   "execution_count": null,
   "metadata": {},
   "outputs": [],
   "source": [
    "get_coshow(contents[:1000])[:10] #顯現出前10個最常出現的詞語出現字數"
   ]
  },
  {
   "cell_type": "code",
   "execution_count": null,
   "metadata": {},
   "outputs": [],
   "source": [
    "#顯現cutted_dict中最常出現的前20個斷詞語字數\n",
    "cutted_dict = get_cutted_dict(contents[:1000])\n",
    "high_freq_pair = first_n_words(cutted_dict, 20)\n",
    "high_freq_pair"
   ]
  }
 ],
 "metadata": {
  "kernelspec": {
   "display_name": "Python 3",
   "language": "python",
   "name": "python3"
  },
  "language_info": {
   "codemirror_mode": {
    "name": "ipython",
    "version": 3
   },
   "file_extension": ".py",
   "mimetype": "text/x-python",
   "name": "python",
   "nbconvert_exporter": "python",
   "pygments_lexer": "ipython3",
   "version": "3.6.5"
  }
 },
 "nbformat": 4,
 "nbformat_minor": 2
}
